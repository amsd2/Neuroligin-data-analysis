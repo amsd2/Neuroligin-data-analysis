{
 "cells": [
  {
   "cell_type": "code",
   "execution_count": 13,
   "metadata": {
    "collapsed": true
   },
   "outputs": [],
   "source": [
    "import numpy as np\n",
    "import pandas as pd\n",
    "import matplotlib\n",
    "import os"
   ]
  },
  {
   "cell_type": "code",
   "execution_count": 14,
   "metadata": {
    "collapsed": false
   },
   "outputs": [],
   "source": [
    "#delete ps and table files\n",
    "rootdir='C:\\\\Users\\\\k1222742\\\\Dropbox\\\\IoP\\\\Preclinical\\\\NAC\\\\NAC5_NLGN3\\\\Results'\n",
    "for subdirs, dirs,  files in os.walk(rootdir):\n",
    "    for file in files:\n",
    "        name= os.path.join(subdirs, file)\n",
    "        if  not \".csv\" in name:\n",
    "            try:\n",
    "                os.remove(os.path.join(subdirs, file))\n",
    "            except: \n",
    "                print(\"already gone\")\n",
    "        "
   ]
  },
  {
   "cell_type": "code",
   "execution_count": 23,
   "metadata": {
    "collapsed": false
   },
   "outputs": [
    {
     "name": "stdout",
     "output_type": "stream",
     "text": [
      "                      Cr  CrSD     PCr  PCrSD     Glu  GluCrPCr  GluSD   GABA  \\\n",
      "scan_id                                                                         \n",
      "NAC5_20160125_01   9.470    16   5.687     27  16.740     1.104     12  3.148   \n",
      "NAC5_20160125_02  11.066    26   5.247     60  23.815     1.460     11  3.263   \n",
      "NAC5_20160125_03   8.542    26   4.989     46  21.237     1.570     11  2.631   \n",
      "NAC5_20160125_04  11.623    15   2.985     58  20.409     1.397     10  2.378   \n",
      "NAC5_20160126_01   5.413    23   8.971     15  20.385     1.417     11  1.969   \n",
      "NAC5_20160126_02   7.739    14   6.364     17  19.326     1.370      9  3.358   \n",
      "NAC5_20160126_03   9.420    14   6.512     20  15.034     0.944     13  2.989   \n",
      "NAC5_20160126_04   5.946    30   8.423     22  19.977     1.390     12  2.182   \n",
      "NAC5_20160126_05   6.167    25   8.352     19  17.504     1.206     11  2.564   \n",
      "NAC5_20160127_01   8.852    20   5.170     35  19.510     1.391     11  1.253   \n",
      "NAC5_20160127_02   6.748    19   5.988     21  18.537     1.455     10  2.671   \n",
      "NAC5_20160127_03   8.385    25   3.764     55  19.661     1.618     11  2.217   \n",
      "NAC5_20160127_04  11.091    20   4.196     54  19.762     1.293     13  2.273   \n",
      "NAC5_20160127_05  10.547    21   3.957     59  16.947     1.168     13  3.147   \n",
      "NAC5_20160325_01   0.000   999  16.931      8  18.655     1.102     21  1.638   \n",
      "NAC5_20160325_02   9.447    15   3.456     37  13.048     1.011     22  2.697   \n",
      "NAC5_20160325_03   8.396    20   5.357     31  20.148     1.465     13  2.092   \n",
      "NAC5_20160325_04  10.700    18   1.820    100  17.688     1.413     15  1.999   \n",
      "NAC5_20160325_05  11.070    16   5.620     30  19.027     1.140     14  2.466   \n",
      "NAC5_20160325_06   6.664    27   6.006     30  12.950     1.022     21  2.282   \n",
      "NAC5_20160326_01   8.618    32   5.962     47  18.326     1.257     15  1.519   \n",
      "NAC5_20160326_02  10.995    20   2.904     75  19.579     1.409     13  1.772   \n",
      "NAC5_20160326_03  13.993    19   2.302    117  19.574     1.201     15  2.371   \n",
      "NAC5_20160326_04  16.623     8   0.000    999  26.657     1.604     13  2.394   \n",
      "NAC5_20160326_05  11.159    19   2.294     89  19.143     1.423     15  1.629   \n",
      "NAC5_20160326_06  10.660    28   4.230     71  20.880     1.402     14  2.330   \n",
      "NAC5_20160328_01   7.765    17   8.449     17  14.602     0.901     14  3.544   \n",
      "NAC5_20160328_02  12.650    29   1.640    227  18.374     1.286     26  1.306   \n",
      "NAC5_20160328_03  10.439    15   6.731     23  20.064     1.168     11  3.855   \n",
      "NAC5_20160328_04   7.614    32   7.607     33  16.077     1.056     18  2.149   \n",
      "NAC5_20160328_05   9.439    15   6.533     21  23.493     1.471      9  1.804   \n",
      "NAC5_20160329_01   9.152    19   4.975     35  16.447     1.164     13  2.302   \n",
      "NAC5_20160329_02  11.669    20   2.605     90  18.583     1.302     16  1.468   \n",
      "NAC5_20160329_03   9.613    26   6.831     38  16.294     0.991     16  1.839   \n",
      "NAC5_20160329_04  11.208    20   4.184     53  16.995     1.104     17  1.167   \n",
      "NAC5_20160329_05  10.886    14   3.765     41  17.868     1.220     11  4.025   \n",
      "NAC5_20160329_06   5.443    42   9.888     25  17.209     1.122     12  1.896   \n",
      "NAC5_20160329_07  10.220    10   5.784     16  20.439     1.277     10  2.912   \n",
      "NAC5_20160330_01   7.360    17   6.681     19  17.194     1.224     10  2.734   \n",
      "NAC5_20160330_02   9.892    14   4.879     29  22.480     1.522      9  2.968   \n",
      "\n",
      "                  GABASD  GABACrPCr    GSH  GSHSD  GSHCrPCr     NAA  NAASD  \\\n",
      "scan_id                                                                      \n",
      "NAC5_20160125_01      39      0.208  7.634     14     0.504  11.531      7   \n",
      "NAC5_20160125_02      45      0.200  6.861     19     0.421  12.340     10   \n",
      "NAC5_20160125_03      49      0.194  7.353     16     0.543  10.998      9   \n",
      "NAC5_20160125_04      49      0.163  4.516     24     0.309  11.815      7   \n",
      "NAC5_20160126_01      55      0.137  4.779     21     0.332  10.776      8   \n",
      "NAC5_20160126_02      34      0.238  4.696     18     0.333  10.109      7   \n",
      "NAC5_20160126_03      41      0.188  4.710     20     0.296  10.879      7   \n",
      "NAC5_20160126_04      55      0.152  4.693     24     0.327  10.892      8   \n",
      "NAC5_20160126_05      45      0.177  7.156     14     0.493  10.403      8   \n",
      "NAC5_20160127_01     101      0.089  5.387     20     0.384   7.955     11   \n",
      "NAC5_20160127_02      40      0.210  4.806     19     0.377  10.843      7   \n",
      "NAC5_20160127_03      50      0.182  5.106     22     0.420   8.208     11   \n",
      "NAC5_20160127_04      57      0.149  8.442     15     0.552  11.093     10   \n",
      "NAC5_20160127_05      40      0.217  6.648     18     0.458   8.637     11   \n",
      "NAC5_20160325_01      94      0.097  7.005     27     0.414  15.943      9   \n",
      "NAC5_20160325_02      46      0.209  7.003     19     0.543  10.447     10   \n",
      "NAC5_20160325_03      58      0.152  3.851     31     0.280  12.134      9   \n",
      "NAC5_20160325_04      57      0.160  3.013     41     0.241   9.193     12   \n",
      "NAC5_20160325_05      54      0.148  6.805     20     0.408  12.800      8   \n",
      "NAC5_20160325_06      52      0.180  6.057     21     0.478  11.210     10   \n",
      "NAC5_20160326_01      80      0.104  5.316     28     0.365  12.562     12   \n",
      "NAC5_20160326_02      73      0.128  4.858     24     0.350  10.978     10   \n",
      "NAC5_20160326_03      64      0.145  5.269     27     0.323  12.652     11   \n",
      "NAC5_20160326_04      63      0.144  9.905     18     0.596  12.977     15   \n",
      "NAC5_20160326_05      69      0.121  5.573     22     0.414  11.811     10   \n",
      "NAC5_20160326_06      58      0.157  4.178     29     0.281  10.941     13   \n",
      "NAC5_20160328_01      34      0.219  6.401     16     0.395  10.688      7   \n",
      "NAC5_20160328_02     100      0.091  5.832     42     0.408   7.790     24   \n",
      "NAC5_20160328_03      35      0.225  6.671     16     0.389  11.547      7   \n",
      "NAC5_20160328_04      66      0.141  9.257     14     0.608   8.804     14   \n",
      "NAC5_20160328_05      74      0.113  5.256     22     0.329  11.203      8   \n",
      "NAC5_20160329_01      48      0.163  7.493     16     0.530  10.196      9   \n",
      "NAC5_20160329_02      94      0.103  4.918     29     0.345  10.434     11   \n",
      "NAC5_20160329_03      77      0.112  9.969     13     0.606  13.597      9   \n",
      "NAC5_20160329_04     114      0.076  5.392     23     0.350  12.231     10   \n",
      "NAC5_20160329_05      31      0.275  5.781     18     0.395  11.103      8   \n",
      "NAC5_20160329_06      63      0.124  7.014     15     0.458  11.567      7   \n",
      "NAC5_20160329_07      41      0.182  4.637     21     0.290   9.804      8   \n",
      "NAC5_20160330_01      37      0.195  5.810     16     0.414  11.580      6   \n",
      "NAC5_20160330_02      40      0.201  5.420     18     0.367  11.438      8   \n",
      "\n",
      "                  NAACrPCr     Ins  InsSD  InsCrPCr  \n",
      "scan_id                                              \n",
      "NAC5_20160125_01     0.761   8.086     13     0.534  \n",
      "NAC5_20160125_02     0.756   8.600     15     0.527  \n",
      "NAC5_20160125_03     0.813   7.493     15     0.554  \n",
      "NAC5_20160125_04     0.809   5.535     20     0.379  \n",
      "NAC5_20160126_01     0.749   6.556     17     0.456  \n",
      "NAC5_20160126_02     0.717   7.876     11     0.558  \n",
      "NAC5_20160126_03     0.683   7.464     14     0.468  \n",
      "NAC5_20160126_04     0.758   6.735     17     0.469  \n",
      "NAC5_20160126_05     0.717   8.336     12     0.574  \n",
      "NAC5_20160127_01     0.567   6.392     17     0.456  \n",
      "NAC5_20160127_02     0.851   4.833     18     0.379  \n",
      "NAC5_20160127_03     0.676   6.153     19     0.506  \n",
      "NAC5_20160127_04     0.726   9.391     14     0.614  \n",
      "NAC5_20160127_05     0.596   7.225     16     0.498  \n",
      "NAC5_20160325_01     0.942   6.919     30     0.409  \n",
      "NAC5_20160325_02     0.810   6.441     23     0.499  \n",
      "NAC5_20160325_03     0.882   7.033     19     0.511  \n",
      "NAC5_20160325_04     0.734   5.700     25     0.455  \n",
      "NAC5_20160325_05     0.767   9.007     15     0.540  \n",
      "NAC5_20160325_06     0.885   6.766     21     0.534  \n",
      "NAC5_20160326_01     0.862   3.005     47     0.206  \n",
      "NAC5_20160326_02     0.790   5.472     24     0.394  \n",
      "NAC5_20160326_03     0.776   7.625     19     0.468  \n",
      "NAC5_20160326_04     0.781  10.057     18     0.605  \n",
      "NAC5_20160326_05     0.878   6.008     25     0.447  \n",
      "NAC5_20160326_06     0.735   7.287     20     0.489  \n",
      "NAC5_20160328_01     0.659   7.741     14     0.477  \n",
      "NAC5_20160328_02     0.545   4.990     49     0.349  \n",
      "NAC5_20160328_03     0.672   8.315     13     0.484  \n",
      "NAC5_20160328_04     0.578   8.862     16     0.582  \n",
      "NAC5_20160328_05     0.701   8.730     13     0.547  \n",
      "NAC5_20160329_01     0.722   4.736     23     0.335  \n",
      "NAC5_20160329_02     0.731   6.832     22     0.479  \n",
      "NAC5_20160329_03     0.827   7.690     17     0.468  \n",
      "NAC5_20160329_04     0.795   5.619     26     0.365  \n",
      "NAC5_20160329_05     0.758   6.831     15     0.466  \n",
      "NAC5_20160329_06     0.754   7.530     15     0.491  \n",
      "NAC5_20160329_07     0.613   6.302     16     0.394  \n",
      "NAC5_20160330_01     0.825   3.332     27     0.237  \n",
      "NAC5_20160330_02     0.774   8.802     12     0.596  \n"
     ]
    },
    {
     "name": "stderr",
     "output_type": "stream",
     "text": [
      "C:\\Users\\k1222742\\AppData\\Local\\Continuum\\Anaconda3\\lib\\site-packages\\pandas\\core\\frame.py:2754: SettingWithCopyWarning: \n",
      "A value is trying to be set on a copy of a slice from a DataFrame\n",
      "\n",
      "See the caveats in the documentation: http://pandas.pydata.org/pandas-docs/stable/indexing.html#indexing-view-versus-copy\n",
      "  **kwargs)\n"
     ]
    }
   ],
   "source": [
    "#loop through directories and get info from csv file. \n",
    "mrs=pd.DataFrame([])\n",
    "for subdirs, dirs,  files in os.walk(rootdir):\n",
    "    for file in files:\n",
    "        scan_id=  os.path.join(subdirs, file)[65:76]\n",
    "        tmp= pd.read_csv(os.path.join(subdirs, file))\n",
    "        tmp['scan_id']=\"NAC5_\"+scan_id\n",
    "        mrs=mrs.append(tmp)\n",
    "mrs=mrs.set_index('scan_id')\n",
    "#only keep variables i want: cr, glu, glx, gaba, gsh\n",
    "mrs_good= mrs[[' Cr',' Cr %SD', ' PCr',' PCr %SD',' Glu', ' Glu/Cr+PCr', ' Glu %SD',  ' GABA', ' GABA %SD', ' GABA/Cr+PCr',' GSH', ' GSH %SD',' GSH/Cr+PCr', ' NAA', ' NAA %SD', ' NAA/Cr+PCr', ' Ins', ' Ins %SD', ' Ins/Cr+PCr']]\n",
    "#df.rename(columns={' Cr':'Cr',' Cr %SD':'CrSD', ' PCr':'PCr',' PCr %SD',' Glu', ' Glu/Cr+PCr', ' Glu %SD',  ' GABA', ' GABA %SD', ' GABA/Cr+PCr',' GSH', ' GSH %SD',' GSH/Cr+PCr'}, inplace=True)\n",
    "mrs_good.rename(columns=lambda x: x.replace(\" \", \"\"), inplace=True)\n",
    "mrs_good.rename(columns=lambda x: x.replace(\"%\", \"\"), inplace=True)\n",
    "mrs_good.rename(columns=lambda x: x.replace(\"/\", \"\"), inplace=True)\n",
    "mrs_good.rename(columns=lambda x: x.replace(\"+\", \"\"), inplace=True)\n",
    "\n",
    "print(mrs_good)\n",
    "#list(mrs_good.columns.values)"
   ]
  },
  {
   "cell_type": "code",
   "execution_count": 24,
   "metadata": {
    "collapsed": false
   },
   "outputs": [],
   "source": [
    "# get info from scan sheet and merge df\n",
    "grid=pd.read_csv('C:\\\\Users\\\\k1222742\\\\Dropbox\\\\IoP\\\\Preclinical\\\\NAC\\\\NAC5_NLGN3\\\\NAC5_Grid_Clean.csv',encoding = \"ISO-8859-1\")\n",
    "grid=grid.set_index('SCAN_ID')\n",
    "grid.Gen=grid.Gen.str.strip()\n",
    "grid.Ttt=grid.Ttt.str.strip()\n",
    "\n"
   ]
  },
  {
   "cell_type": "code",
   "execution_count": 25,
   "metadata": {
    "collapsed": false
   },
   "outputs": [],
   "source": [
    "#Merge dfs\n",
    "Data=grid.merge(mrs_good,right_index=True,left_index=True)\n",
    "Data['CrPCr']=Data.Cr+Data.PCr\n",
    "#print(Data)\n",
    "Data.to_csv('Data.csv')\n",
    "\n"
   ]
  },
  {
   "cell_type": "code",
   "execution_count": null,
   "metadata": {
    "collapsed": false
   },
   "outputs": [],
   "source": [
    "from statsmodels.formula.api import ols\n",
    "from statsmodels.stats.anova import anova_lm\n",
    "\n",
    "formula = 'GluCrPCr ~ C(Gen) + C(Ttt) + C(Gen):C(Ttt)'\n",
    "model = ols(formula, Data[(Data.GluSD<=20) & (Data.wrong_coil==0)].fit()\n",
    "bla=statsmodels.stats.anova.anova_lm(model, typ=2)\n",
    "print(aov_table)"
   ]
  },
  {
   "cell_type": "code",
   "execution_count": null,
   "metadata": {
    "collapsed": false
   },
   "outputs": [],
   "source": [
    "import seaborn as sns\n",
    "import matplotlib.pyplot as plt\n",
    "from scipy.stats import sem\n",
    "\n",
    "#calc mean and sem\n",
    "Data_sumstats = (Data[Data['Glu%SD']<20].groupby([\"Gen\", \"Ttt\"]).Glu.agg([\"mean\", sem]).reset_index())\n",
    "print(Data_sumstats)\n",
    "\n",
    "SalMeans = np.array(Data_sumstats[Data_sumstats.Ttt=='Saline']['mean'])\n",
    "SalSem = np.array(Data_sumstats[Data_sumstats.Ttt=='Saline']['sem'])\n",
    "NACMeans = np.array(Data_sumstats[Data_sumstats.Ttt=='NAC']['mean'])\n",
    "NACSem = np.array(Data_sumstats[Data_sumstats.Ttt=='NAC']['sem'])\n",
    "print(SalMeans)\n",
    "#plot\n",
    "N=2\n",
    "ind = np.arange(N)  # the x locations for the groups\n",
    "width = 0.35       # the width of the bars\n",
    "\n",
    "fig, ax = plt.subplots()\n",
    "rects1 = ax.bar(ind, SalMeans, width, color='r', yerr=SalSem)\n",
    "rects2 = ax.bar(ind+width, NACMeans, width, color='b', yerr=NACSem)\n",
    "\n",
    "# add some text for labels, title and axes ticks\n",
    "ax.set_ylabel('Glutamate')\n",
    "#ax.set_title('Scores by group and gender')\n",
    "ax.set_xticks(ind + width)\n",
    "ax.set_xticklabels(('KO', 'WT'))\n",
    "\n",
    "ax.legend((rects1[0], rects2[0]), ('Saline', 'NAC'))\n",
    "\n",
    "plt.show()"
   ]
  },
  {
   "cell_type": "markdown",
   "metadata": {},
   "source": [
    "http://www.marsja.se/three-ways-to-carry-out-2-way-anova-with-python/"
   ]
  }
 ],
 "metadata": {
  "anaconda-cloud": {},
  "kernelspec": {
   "display_name": "Python [Root]",
   "language": "python",
   "name": "Python [Root]"
  },
  "language_info": {
   "codemirror_mode": {
    "name": "ipython",
    "version": 3
   },
   "file_extension": ".py",
   "mimetype": "text/x-python",
   "name": "python",
   "nbconvert_exporter": "python",
   "pygments_lexer": "ipython3",
   "version": "3.5.2"
  }
 },
 "nbformat": 4,
 "nbformat_minor": 0
}
