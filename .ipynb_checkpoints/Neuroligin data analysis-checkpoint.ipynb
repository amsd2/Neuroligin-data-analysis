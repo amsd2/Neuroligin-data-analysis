{
 "cells": [
  {
   "cell_type": "code",
   "execution_count": 1,
   "metadata": {
    "collapsed": true
   },
   "outputs": [],
   "source": [
    "import numpy as np\n",
    "import pandas as pd\n",
    "import matplotlib\n",
    "import os"
   ]
  },
  {
   "cell_type": "code",
   "execution_count": 6,
   "metadata": {
    "collapsed": false
   },
   "outputs": [],
   "source": [
    "#delete ps and table files\n",
    "rootdir='C:\\\\Users\\\\k1222742\\\\Dropbox\\\\IoP\\\\Preclinical\\\\NAC\\\\NAC5_NLGN3\\\\Results'\n",
    "for subdirs, dirs,  files in os.walk(rootdir):\n",
    "    for file in files:\n",
    "        name= os.path.join(subdirs, file)\n",
    "        if  not \".csv\" in name:\n",
    "            try:\n",
    "                os.remove(os.path.join(subdirs, file))\n",
    "            except: \n",
    "                print(\"already gone\")\n",
    "        "
   ]
  },
  {
   "cell_type": "code",
   "execution_count": 59,
   "metadata": {
    "collapsed": false
   },
   "outputs": [],
   "source": [
    "#loop through directories and get info from csv file. \n",
    "mrs=pd.DataFrame([])\n",
    "for subdirs, dirs,  files in os.walk(rootdir):\n",
    "    for file in files:\n",
    "        scan_id=  os.path.join(subdirs, file)[65:76]\n",
    "        tmp= pd.read_csv(os.path.join(subdirs, file))\n",
    "        tmp['scan_id']=\"NAC5_\"+scan_id\n",
    "        mrs=mrs.append(tmp)\n",
    "mrs=mrs.set_index('scan_id')\n",
    "# get info from scan sheet and merge df\n",
    "grid=pd.read_csv('C:\\\\Users\\\\k1222742\\\\Dropbox\\\\IoP\\\\Preclinical\\\\NAC\\\\NAC5_NLGN3\\\\NAC5_Grid_Clean.csv',encoding = \"ISO-8859-1\")\n",
    "grid=grid.set_index('SCAN_ID')\n",
    "\n",
    "#Merge dfs\n",
    "Data=grid.merge(mrs,right_index=True,left_index=True)\n",
    "Data=Data.drop('Row', 1)\n",
    "Data=Data.drop(' Col', 1)"
   ]
  },
  {
   "cell_type": "code",
   "execution_count": null,
   "metadata": {
    "collapsed": true
   },
   "outputs": [],
   "source": []
  }
 ],
 "metadata": {
  "anaconda-cloud": {},
  "kernelspec": {
   "display_name": "Python [Root]",
   "language": "python",
   "name": "Python [Root]"
  },
  "language_info": {
   "codemirror_mode": {
    "name": "ipython",
    "version": 3
   },
   "file_extension": ".py",
   "mimetype": "text/x-python",
   "name": "python",
   "nbconvert_exporter": "python",
   "pygments_lexer": "ipython3",
   "version": "3.5.2"
  }
 },
 "nbformat": 4,
 "nbformat_minor": 0
}
